{
 "cells": [
  {
   "cell_type": "markdown",
   "metadata": {},
   "source": [
    "# Importação das bibliotecas necessárias"
   ]
  },
  {
   "cell_type": "code",
   "execution_count": null,
   "metadata": {},
   "outputs": [],
   "source": [
    "!pip install opencv-python\n",
    "%matplotlib inline\n",
    "\n",
    "import numpy as np\n",
    "import matplotlib.pyplot as plt\n",
    "import glob\n",
    "import cv2\n",
    "\n",
    "from sklearn.metrics import accuracy_score\n",
    "from sklearn.model_selection import train_test_split\n",
    "\n",
    "from sklearn.neighbors import KNeighborsClassifier\n",
    "from sklearn import svm\n",
    "from sklearn.cluster import KMeans"
   ]
  },
  {
   "cell_type": "markdown",
   "metadata": {},
   "source": [
    "# Método HOG (Histograma Orientado ao Gradiente)\n",
    "* Metodo onde recebe uma imagem e retorna o descritor HOG que é o histograma orientado ao gradiente.\n",
    "* O HOG é um descritor de características, ele vai generalizar a imagem de uma forma que os algoritmos de aprendizado possam dizer o que é e o que não é uma imagem"
   ]
  },
  {
   "cell_type": "code",
   "execution_count": 207,
   "metadata": {},
   "outputs": [],
   "source": [
    "def hog(img):\n",
    "    bin_n = 16\n",
    "    gx = cv2.Sobel(img, cv2.CV_32F, 1, 0)\n",
    "    gy = cv2.Sobel(img, cv2.CV_32F, 0, 1)\n",
    "    mag, ang = cv2.cartToPolar(gx, gy)\n",
    "\n",
    "    bins = np.int32(bin_n*ang/(2*np.pi))\n",
    " #método para extrair o descritor das imagens\n",
    "    bin_cells = bins[:10,:10], bins[10:,:10], bins[:10,10:], bins[10:,10:]\n",
    "    mag_cells = mag[:10,:10], mag[10:,:10], mag[:10,10:], mag[10:,10:]\n",
    "    hists = [np.bincount(b.ravel(), m.ravel(), bin_n) for b, m in zip(bin_cells, mag_cells)]\n",
    "    hist = np.hstack(hists)\n",
    "    return hist"
   ]
  },
  {
   "cell_type": "markdown",
   "metadata": {},
   "source": [
    "# Método de Redimensionamento\n",
    "* Redimensionando a imagem para um tamanho fixo e, em seguida, 'alisando' a imagem em uma lista de intensidades de pixels brutas"
   ]
  },
  {
   "cell_type": "code",
   "execution_count": 208,
   "metadata": {},
   "outputs": [],
   "source": [
    "def redimensionamento (image, size = (32, 32)):\n",
    "    return cv2.resize (image, size).flatten ()"
   ]
  },
  {
   "cell_type": "markdown",
   "metadata": {},
   "source": [
    "# Leitura dos Dados\n",
    "\n",
    "* Inserindo as imagens do database em 'imagens'\n",
    "* Inserindo os descritores das imagens redimensionadas em 'hogdata'\n",
    "* Atribuindo resultados a uma matriz em 'X'"
   ]
  },
  {
   "cell_type": "code",
   "execution_count": 209,
   "metadata": {},
   "outputs": [],
   "source": [
    "#glob é usado Converte o caminho p para um caminho absoluto canônico\n",
    "\n",
    "imagens = [cv2.imread(file) for file in sorted(glob.glob(\"database/*.png\"))]\n",
    "hogdata = []\n",
    "for i in range(len(imagens)):\n",
    "    imagem = redimensionamento(imagens[i])\n",
    "    hogdata.append(hog(imagem))\n",
    "X = np.float32(hogdata).reshape(-1,64)"
   ]
  },
  {
   "cell_type": "markdown",
   "metadata": {},
   "source": [
    "# Rotulando as labels\n",
    "* Rotulando as imagens como verdadeiras e falsas"
   ]
  },
  {
   "cell_type": "code",
   "execution_count": 210,
   "metadata": {},
   "outputs": [],
   "source": [
    "labels = np.array([1,1,1,1,1,1,1,1,1,1,1,1,0,0,0,0,0,0,0,0,0,0,0,1,1,1,1,1,1,1,1,1,0,0,1,1,0,1,1,1,1,1,1,1,1,0,0,1,0,0,0,0,0,1,1])"
   ]
  },
  {
   "cell_type": "markdown",
   "metadata": {},
   "source": [
    "# Dividindo os dados para treino e teste\n",
    "* 75% para treino\n",
    "* 25% para teste"
   ]
  },
  {
   "cell_type": "code",
   "execution_count": null,
   "metadata": {},
   "outputs": [],
   "source": [
    "X_train, X_test, y_train, y_test = train_test_split(X, labels, test_size=0.25, random_state=0)"
   ]
  },
  {
   "cell_type": "markdown",
   "metadata": {},
   "source": [
    "# KNN\n",
    "* Realizando Treino e testes com o KNN\n",
    "* Informando a taxa de acerto do teste"
   ]
  },
  {
   "cell_type": "code",
   "execution_count": 211,
   "metadata": {},
   "outputs": [
    {
     "name": "stdout",
     "output_type": "stream",
     "text": [
      "Acurácia: 64.29%\n"
     ]
    }
   ],
   "source": [
    "knn = KNeighborsClassifier () \n",
    "\n",
    "knn.fit(X_train, y_train)\n",
    "acc = knn.score(X_test, y_test)\n",
    "print(\"Acurácia: {:.2f}%\".format(acc*100))"
   ]
  },
  {
   "cell_type": "markdown",
   "metadata": {},
   "source": [
    "# SVM\n",
    "* Realizando treino e testes com o SVM\n",
    "* Informando a taxa de acerto do teste"
   ]
  },
  {
   "cell_type": "code",
   "execution_count": 215,
   "metadata": {},
   "outputs": [
    {
     "name": "stdout",
     "output_type": "stream",
     "text": [
      "Acurácia: 50.00%\n"
     ]
    }
   ],
   "source": [
    "svc = svm.SVC(kernel='linear', C=1, gamma=1) \n",
    "svc.fit (X_train, y_train)\n",
    "acc = svc.score(X_test, y_test)\n",
    "\n",
    "print(\"Acurácia: {:.2f}%\".format(acc*100))"
   ]
  },
  {
   "cell_type": "markdown",
   "metadata": {},
   "source": [
    "# K-Means\n",
    "* Realizando agrupamento com o K-Means\n",
    "* Informando a taxa de acerto"
   ]
  },
  {
   "cell_type": "code",
   "execution_count": 229,
   "metadata": {},
   "outputs": [
    {
     "name": "stdout",
     "output_type": "stream",
     "text": [
      "Acurácia: 42.86%\n"
     ]
    }
   ],
   "source": [
    "kmeans = KMeans(n_clusters = 2, random_state=0)\n",
    "kmeans.fit (X_train)\n",
    "\n",
    "acc = accuracy_score (kmeans.predict(X_test), y_test)\n",
    "print(\"Acurácia: {:.2f}%\".format(acc*100))"
   ]
  }
 ],
 "metadata": {
  "kernelspec": {
   "display_name": "Python 3",
   "language": "python",
   "name": "python3"
  },
  "language_info": {
   "codemirror_mode": {
    "name": "ipython",
    "version": 3
   },
   "file_extension": ".py",
   "mimetype": "text/x-python",
   "name": "python",
   "nbconvert_exporter": "python",
   "pygments_lexer": "ipython3",
   "version": "3.7.3"
  }
 },
 "nbformat": 4,
 "nbformat_minor": 2
}
